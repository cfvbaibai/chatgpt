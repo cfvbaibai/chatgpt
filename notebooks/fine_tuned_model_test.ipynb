{
 "cells": [
  {
   "cell_type": "code",
   "execution_count": 1,
   "id": "aecb7296",
   "metadata": {},
   "outputs": [],
   "source": [
    "from openai import OpenAI"
   ]
  },
  {
   "cell_type": "code",
   "execution_count": 2,
   "id": "5301531a",
   "metadata": {},
   "outputs": [],
   "source": [
    "client = OpenAI()"
   ]
  },
  {
   "cell_type": "code",
   "execution_count": 6,
   "id": "b174a8da",
   "metadata": {},
   "outputs": [
    {
     "name": "stdout",
     "output_type": "stream",
     "text": [
      "ChatCompletionMessage(content='凭申请人落户所在地派出所核发的《暂住证》、《调动登记表》及《调动证明》、拟落胜方及家庭成员凭落户地址派出所核发的《生活困难证明》原件和副本等相关材料，到本人落户地的街道（乡镇）社区事务受理服务中心进行受理。', role='assistant', function_call=None, tool_calls=None)\n"
     ]
    }
   ],
   "source": [
    "completion = client.chat.completions.create(\n",
    "  model=\"ft:gpt-3.5-turbo-1106:personal::8U4TbIqA\",\n",
    "  messages=[\n",
    "    {\"role\": \"user\", \"content\": \"上海市居住证业务-怎么办理临时居住证？\"}\n",
    "  ]\n",
    ")\n",
    "print(completion.choices[0].message)"
   ]
  },
  {
   "cell_type": "code",
   "execution_count": 7,
   "id": "36682ddf",
   "metadata": {},
   "outputs": [
    {
     "name": "stdout",
     "output_type": "stream",
     "text": [
      "ChatCompletionMessage(content='办理上海市临时居住证需要提供以下材料：\\n1. 有效身份证件原件及复印件\\n2. 户口簿原件及复印件\\n3. 申请人的照片\\n4. 房屋租赁合同原件及复印件\\n5. 房屋产权证原件及复印件（如果是房产所有人）\\n6. 房屋租赁备案证明（如果是租房）\\n7. 社区居委会出具的居住证明\\n\\n办理流程如下：\\n1. 持以上材料到当地派出所办理居住证申请。\\n2. 填写相关的申请表格。\\n3. 进行信息核对和审核。\\n4. 缴纳相关的费用（可能会根据不同要求而有所不同）。\\n\\n办理临时居住证后，可以在指定的时间内在上海市内合法居住和工作。', role='assistant', function_call=None, tool_calls=None)\n"
     ]
    }
   ],
   "source": [
    "completion = client.chat.completions.create(\n",
    "  model=\"gpt-3.5-turbo-1106\",\n",
    "  messages=[\n",
    "    {\"role\": \"user\", \"content\": \"上海市居住证业务-怎么办理临时居住证？\"}\n",
    "  ]\n",
    ")\n",
    "print(completion.choices[0].message)"
   ]
  }
 ],
 "metadata": {
  "kernelspec": {
   "display_name": "Python 3 (ipykernel)",
   "language": "python",
   "name": "python3"
  },
  "language_info": {
   "codemirror_mode": {
    "name": "ipython",
    "version": 3
   },
   "file_extension": ".py",
   "mimetype": "text/x-python",
   "name": "python",
   "nbconvert_exporter": "python",
   "pygments_lexer": "ipython3",
   "version": "3.9.0"
  }
 },
 "nbformat": 4,
 "nbformat_minor": 5
}
