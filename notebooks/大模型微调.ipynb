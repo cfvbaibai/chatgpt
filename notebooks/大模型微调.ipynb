{
 "cells": [
  {
   "cell_type": "code",
   "execution_count": 8,
   "id": "aecb7296",
   "metadata": {},
   "outputs": [],
   "source": [
    "from openai import OpenAI"
   ]
  },
  {
   "cell_type": "code",
   "execution_count": 9,
   "id": "5301531a",
   "metadata": {},
   "outputs": [],
   "source": [
    "client = OpenAI()"
   ]
  },
  {
   "cell_type": "markdown",
   "id": "505f6be6-2230-4257-b5f3-8dc4aa66f152",
   "metadata": {},
   "source": [
    "# 原始大模型的输出"
   ]
  },
  {
   "cell_type": "code",
   "execution_count": 10,
   "id": "36682ddf",
   "metadata": {},
   "outputs": [],
   "source": [
    "completion = client.chat.completions.create(\n",
    "  model=\"gpt-3.5-turbo-1106\",\n",
    "  messages=[\n",
    "    {\"role\": \"user\", \"content\": \"上海市居住证业务-怎么办理临时居住证？\"}\n",
    "  ]\n",
    ")"
   ]
  },
  {
   "cell_type": "code",
   "execution_count": 11,
   "id": "a9f4f88e-9abd-415b-a3ea-275ca07da155",
   "metadata": {},
   "outputs": [
    {
     "name": "stdout",
     "output_type": "stream",
     "text": [
      "办理临时居住证有以下步骤：\n",
      "\n",
      "1. 准备材料：申请人需要携带有效身份证件原件和复印件（包括身份证、户口簿等）、居住地点证明（如房东出具的证明信、租房合同等）、申请表格等相关材料。\n",
      "\n",
      "2. 到居住证办理地点：申请人需要到上海市规定的居住证办理地点，如当地派出所或居住证服务中心等，提出申请。\n",
      "\n",
      "3. 填写申请表格：申请人需要填写居住证申请表格，并提交相关材料进行审核。\n",
      "\n",
      "4. 缴纳费用：根据当地规定，申请人可能需要缴纳一定的费用，办理居住证的手续费。\n",
      "\n",
      "5. 审核及领取证件：经过审核后，申请人可以领取临时居住证，并核对证件上的信息，确保准确无误。\n",
      "\n",
      "以上是办理临时居住证的一般步骤，具体操作流程可能因地区而异，申请人可以根据当地的具体规定前往办理居住证业务。\n"
     ]
    }
   ],
   "source": [
    "print(completion.choices[0].message.content)"
   ]
  },
  {
   "cell_type": "markdown",
   "id": "091f4739-6af1-473a-8bc8-11b3947b2576",
   "metadata": {},
   "source": [
    "# 微调后的大模型的输出"
   ]
  },
  {
   "cell_type": "code",
   "execution_count": 12,
   "id": "b174a8da",
   "metadata": {},
   "outputs": [],
   "source": [
    "completion = client.chat.completions.create(\n",
    "  model=\"ft:gpt-3.5-turbo-1106:personal::8U4TbIqA\",\n",
    "  messages=[\n",
    "    {\"role\": \"user\", \"content\": \"上海市居住证业务-怎么办理临时居住证？\"}\n",
    "  ]\n",
    ")"
   ]
  },
  {
   "cell_type": "code",
   "execution_count": 13,
   "id": "ec4f2635-9953-436e-b247-375bf235a054",
   "metadata": {},
   "outputs": [
    {
     "name": "stdout",
     "output_type": "stream",
     "text": [
      "居民临时来沪居住的，可凭居民身份证、户口簿（居住证）和在职职工就业的，还应出示用人单位提供的在上海市就业的证明，在区内大街道（园区）社区事务受理服务中心，持有效证件、在职职工就业证明，即时办理、即时发放，全程只需一窗受理，特殊情况可向区社区事务受理服务中心申请（抵达20个工作日内，可先持居民身份证去大街道社区事务受理服务中心申请生活垃圾收集卡、社会保障卡，频繁赴沪的可先申请在沪开设基本医疗保险参保个人账户）。\n"
     ]
    }
   ],
   "source": [
    "print(completion.choices[0].message.content)"
   ]
  }
 ],
 "metadata": {
  "kernelspec": {
   "display_name": "Python 3 (ipykernel)",
   "language": "python",
   "name": "python3"
  },
  "language_info": {
   "codemirror_mode": {
    "name": "ipython",
    "version": 3
   },
   "file_extension": ".py",
   "mimetype": "text/x-python",
   "name": "python",
   "nbconvert_exporter": "python",
   "pygments_lexer": "ipython3",
   "version": "3.11.4"
  }
 },
 "nbformat": 4,
 "nbformat_minor": 5
}
