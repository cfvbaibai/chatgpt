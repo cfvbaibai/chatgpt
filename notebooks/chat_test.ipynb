{
 "cells": [
  {
   "cell_type": "code",
   "execution_count": 1,
   "id": "fae0ab53",
   "metadata": {},
   "outputs": [
    {
     "ename": "KeyError",
     "evalue": "'HTTPS_PROXY'",
     "output_type": "error",
     "traceback": [
      "\u001b[1;31m---------------------------------------------------------------------------\u001b[0m",
      "\u001b[1;31mKeyError\u001b[0m                                  Traceback (most recent call last)",
      "Cell \u001b[1;32mIn[1], line 2\u001b[0m\n\u001b[0;32m      1\u001b[0m \u001b[38;5;28;01mimport\u001b[39;00m \u001b[38;5;21;01mos\u001b[39;00m\n\u001b[1;32m----> 2\u001b[0m proxy \u001b[38;5;241m=\u001b[39m \u001b[43mos\u001b[49m\u001b[38;5;241;43m.\u001b[39;49m\u001b[43menviron\u001b[49m\u001b[43m[\u001b[49m\u001b[38;5;124;43m\"\u001b[39;49m\u001b[38;5;124;43mHTTPS_PROXY\u001b[39;49m\u001b[38;5;124;43m\"\u001b[39;49m\u001b[43m]\u001b[49m\n\u001b[0;32m      3\u001b[0m api_key \u001b[38;5;241m=\u001b[39m os\u001b[38;5;241m.\u001b[39menviron[\u001b[38;5;124m\"\u001b[39m\u001b[38;5;124mOPENAI_API_KEY\u001b[39m\u001b[38;5;124m\"\u001b[39m]\n\u001b[0;32m      5\u001b[0m \u001b[38;5;28mprint\u001b[39m(\u001b[38;5;124mf\u001b[39m\u001b[38;5;124m\"\u001b[39m\u001b[38;5;124mHTTPS_PROXY: \u001b[39m\u001b[38;5;132;01m{\u001b[39;00mproxy\u001b[38;5;132;01m}\u001b[39;00m\u001b[38;5;124m\"\u001b[39m)\n",
      "File \u001b[1;32mC:\\Python39\\lib\\os.py:679\u001b[0m, in \u001b[0;36m_Environ.__getitem__\u001b[1;34m(self, key)\u001b[0m\n\u001b[0;32m    676\u001b[0m     value \u001b[38;5;241m=\u001b[39m \u001b[38;5;28mself\u001b[39m\u001b[38;5;241m.\u001b[39m_data[\u001b[38;5;28mself\u001b[39m\u001b[38;5;241m.\u001b[39mencodekey(key)]\n\u001b[0;32m    677\u001b[0m \u001b[38;5;28;01mexcept\u001b[39;00m \u001b[38;5;167;01mKeyError\u001b[39;00m:\n\u001b[0;32m    678\u001b[0m     \u001b[38;5;66;03m# raise KeyError with the original key value\u001b[39;00m\n\u001b[1;32m--> 679\u001b[0m     \u001b[38;5;28;01mraise\u001b[39;00m \u001b[38;5;167;01mKeyError\u001b[39;00m(key) \u001b[38;5;28;01mfrom\u001b[39;00m \u001b[38;5;28mNone\u001b[39m\n\u001b[0;32m    680\u001b[0m \u001b[38;5;28;01mreturn\u001b[39;00m \u001b[38;5;28mself\u001b[39m\u001b[38;5;241m.\u001b[39mdecodevalue(value)\n",
      "\u001b[1;31mKeyError\u001b[0m: 'HTTPS_PROXY'"
     ]
    }
   ],
   "source": [
    "import os\n",
    "proxy = os.environ[\"HTTPS_PROXY\"]\n",
    "api_key = os.environ[\"OPENAI_API_KEY\"]\n",
    "\n",
    "print(f\"HTTPS_PROXY: {proxy}\")\n",
    "print(\"OPENAI_API_KEY: configured\")"
   ]
  },
  {
   "cell_type": "code",
   "execution_count": 2,
   "id": "56f49d4c",
   "metadata": {},
   "outputs": [],
   "source": [
    "import json\n",
    "import pandas as pd\n",
    "import numpy as np\n",
    "import openai\n",
    "openai.api_key = os.environ[\"OPENAI_API_KEY\"]"
   ]
  },
  {
   "cell_type": "code",
   "execution_count": 21,
   "id": "5c002900",
   "metadata": {},
   "outputs": [],
   "source": [
    "CHAT_COMPLETION_MODEL=\"gpt-3.5-turbo\""
   ]
  },
  {
   "cell_type": "code",
   "execution_count": 23,
   "id": "eaeb7fc1",
   "metadata": {},
   "outputs": [],
   "source": [
    "class Dialog:\n",
    "    messages = []\n",
    "    \n",
    "    def set_cpu_role(self, message):\n",
    "        self.messages = [item for item in self.messages if item[\"role\"] != \"system\"]\n",
    "        self.messages.insert(0, { \"role\": \"system\", \"content\": message })\n",
    "\n",
    "    def ask(self, question):\n",
    "        self.messages.append({ \"role\": \"user\", \"content\": question })\n",
    "        result = openai.ChatCompletion.create(\n",
    "            model=CHAT_COMPLETION_MODEL,\n",
    "            messages=self.messages\n",
    "        )\n",
    "        answer = result.choices[0][\"message\"]\n",
    "        self.messages.append(answer)\n",
    "        return answer[\"content\"]"
   ]
  },
  {
   "cell_type": "code",
   "execution_count": 24,
   "id": "65766e36",
   "metadata": {},
   "outputs": [],
   "source": [
    "dialog = Dialog()"
   ]
  },
  {
   "cell_type": "code",
   "execution_count": 25,
   "id": "981cdcf9",
   "metadata": {},
   "outputs": [
    {
     "data": {
      "text/plain": [
       "[{'role': 'system', 'content': 'You are a Human Resource expert'}]"
      ]
     },
     "execution_count": 25,
     "metadata": {},
     "output_type": "execute_result"
    }
   ],
   "source": [
    "dialog.set_cpu_role(\"You are a Human Resource expert\")\n",
    "dialog.messages"
   ]
  },
  {
   "cell_type": "code",
   "execution_count": 26,
   "id": "5bceef3f",
   "metadata": {},
   "outputs": [
    {
     "data": {
      "text/plain": [
       "'\\n\\nThere are several ways you can recruit a female graduate:\\n\\n1. Attend job fairs and networking events specifically targeted towards women in STEM fields to reach out to potential female candidates.\\n\\n2. Advertise the job opening on platforms that are popular among female graduates, such as women-focused job boards and social media groups.\\n\\n3. Make sure your job posting is gender-neutral and free from any bias towards male candidates.\\n\\n4. Offer flexible work arrangements to attract and retain female graduates.\\n\\n5. Highlight any diversity and inclusion initiatives your company has in place to create an attractive work environment for female graduates.\\n\\n6. Ensure that your recruitment team is diverse and equipped to understand the unique challenges female graduates face in the workforce.\\n\\n7. Partner with universities and colleges that have a strong focus on supporting diversity and inclusion to tap into a diverse pool of female graduates.'"
      ]
     },
     "execution_count": 26,
     "metadata": {},
     "output_type": "execute_result"
    }
   ],
   "source": [
    "dialog.ask(\"How can I recruite a female graduate?\")"
   ]
  },
  {
   "cell_type": "code",
   "execution_count": 27,
   "id": "dd394e2c",
   "metadata": {},
   "outputs": [
    {
     "data": {
      "text/plain": [
       "[{'role': 'system', 'content': 'You are a Human Resource expert'},\n",
       " {'role': 'user', 'content': 'How can I recruite a female graduate?'},\n",
       " <OpenAIObject at 0x2738d5daae0> JSON: {\n",
       "   \"content\": \"\\n\\nThere are several ways you can recruit a female graduate:\\n\\n1. Attend job fairs and networking events specifically targeted towards women in STEM fields to reach out to potential female candidates.\\n\\n2. Advertise the job opening on platforms that are popular among female graduates, such as women-focused job boards and social media groups.\\n\\n3. Make sure your job posting is gender-neutral and free from any bias towards male candidates.\\n\\n4. Offer flexible work arrangements to attract and retain female graduates.\\n\\n5. Highlight any diversity and inclusion initiatives your company has in place to create an attractive work environment for female graduates.\\n\\n6. Ensure that your recruitment team is diverse and equipped to understand the unique challenges female graduates face in the workforce.\\n\\n7. Partner with universities and colleges that have a strong focus on supporting diversity and inclusion to tap into a diverse pool of female graduates.\",\n",
       "   \"role\": \"assistant\"\n",
       " }]"
      ]
     },
     "execution_count": 27,
     "metadata": {},
     "output_type": "execute_result"
    }
   ],
   "source": [
    "dialog.messages"
   ]
  },
  {
   "cell_type": "code",
   "execution_count": null,
   "id": "5834868f",
   "metadata": {},
   "outputs": [],
   "source": []
  }
 ],
 "metadata": {
  "kernelspec": {
   "display_name": "Python 3 (ipykernel)",
   "language": "python",
   "name": "python3"
  },
  "language_info": {
   "codemirror_mode": {
    "name": "ipython",
    "version": 3
   },
   "file_extension": ".py",
   "mimetype": "text/x-python",
   "name": "python",
   "nbconvert_exporter": "python",
   "pygments_lexer": "ipython3",
   "version": "3.9.0"
  }
 },
 "nbformat": 4,
 "nbformat_minor": 5
}
