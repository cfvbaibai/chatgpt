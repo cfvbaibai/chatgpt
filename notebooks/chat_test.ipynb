{
 "cells": [
  {
   "cell_type": "code",
   "execution_count": 1,
   "id": "fae0ab53",
   "metadata": {},
   "outputs": [
    {
     "name": "stdout",
     "output_type": "stream",
     "text": [
      "HTTPS_PROXY: http://127.0.0.1:7078\n",
      "OPENAI_API_KEY: configured\n"
     ]
    }
   ],
   "source": [
    "import os\n",
    "proxy = os.environ[\"HTTPS_PROXY\"]\n",
    "api_key = os.environ[\"OPENAI_API_KEY\"]\n",
    "\n",
    "print(f\"HTTPS_PROXY: {proxy}\")\n",
    "print(\"OPENAI_API_KEY: configured\")"
   ]
  },
  {
   "cell_type": "code",
   "execution_count": 2,
   "id": "56f49d4c",
   "metadata": {},
   "outputs": [],
   "source": [
    "import json\n",
    "import pandas as pd\n",
    "import numpy as np\n",
    "import openai\n",
    "openai.api_key = os.environ[\"OPENAI_API_KEY\"]"
   ]
  },
  {
   "cell_type": "code",
   "execution_count": 21,
   "id": "5c002900",
   "metadata": {},
   "outputs": [],
   "source": [
    "CHAT_COMPLETION_MODEL=\"gpt-3.5-turbo\""
   ]
  },
  {
   "cell_type": "code",
   "execution_count": 23,
   "id": "eaeb7fc1",
   "metadata": {},
   "outputs": [],
   "source": [
    "class Dialog:\n",
    "    messages = []\n",
    "    \n",
    "    def set_cpu_role(self, message):\n",
    "        self.messages = [item for item in self.messages if item[\"role\"] != \"system\"]\n",
    "        self.messages.insert(0, { \"role\": \"system\", \"content\": message })\n",
    "\n",
    "    def ask(self, question):\n",
    "        self.messages.append({ \"role\": \"user\", \"content\": question })\n",
    "        result = openai.ChatCompletion.create(\n",
    "            model=CHAT_COMPLETION_MODEL,\n",
    "            messages=self.messages\n",
    "        )\n",
    "        answer = result.choices[0][\"message\"]\n",
    "        self.messages.append(answer)\n",
    "        return answer[\"content\"]"
   ]
  },
  {
   "cell_type": "code",
   "execution_count": 24,
   "id": "65766e36",
   "metadata": {},
   "outputs": [],
   "source": [
    "dialog = Dialog()"
   ]
  },
  {
   "cell_type": "code",
   "execution_count": 25,
   "id": "981cdcf9",
   "metadata": {},
   "outputs": [
    {
     "data": {
      "text/plain": [
       "[{'role': 'system', 'content': 'You are a Human Resource expert'}]"
      ]
     },
     "execution_count": 25,
     "metadata": {},
     "output_type": "execute_result"
    }
   ],
   "source": [
    "dialog.set_cpu_role(\"You are a Human Resource expert\")\n",
    "dialog.messages"
   ]
  },
  {
   "cell_type": "code",
   "execution_count": 26,
   "id": "5bceef3f",
   "metadata": {},
   "outputs": [
    {
     "data": {
      "text/plain": [
       "'\\n\\nThere are several ways you can recruit a female graduate:\\n\\n1. Attend job fairs and networking events specifically targeted towards women in STEM fields to reach out to potential female candidates.\\n\\n2. Advertise the job opening on platforms that are popular among female graduates, such as women-focused job boards and social media groups.\\n\\n3. Make sure your job posting is gender-neutral and free from any bias towards male candidates.\\n\\n4. Offer flexible work arrangements to attract and retain female graduates.\\n\\n5. Highlight any diversity and inclusion initiatives your company has in place to create an attractive work environment for female graduates.\\n\\n6. Ensure that your recruitment team is diverse and equipped to understand the unique challenges female graduates face in the workforce.\\n\\n7. Partner with universities and colleges that have a strong focus on supporting diversity and inclusion to tap into a diverse pool of female graduates.'"
      ]
     },
     "execution_count": 26,
     "metadata": {},
     "output_type": "execute_result"
    }
   ],
   "source": [
    "dialog.ask(\"How can I recruite a female graduate?\")"
   ]
  },
  {
   "cell_type": "code",
   "execution_count": 27,
   "id": "dd394e2c",
   "metadata": {},
   "outputs": [
    {
     "data": {
      "text/plain": [
       "[{'role': 'system', 'content': 'You are a Human Resource expert'},\n",
       " {'role': 'user', 'content': 'How can I recruite a female graduate?'},\n",
       " <OpenAIObject at 0x2738d5daae0> JSON: {\n",
       "   \"content\": \"\\n\\nThere are several ways you can recruit a female graduate:\\n\\n1. Attend job fairs and networking events specifically targeted towards women in STEM fields to reach out to potential female candidates.\\n\\n2. Advertise the job opening on platforms that are popular among female graduates, such as women-focused job boards and social media groups.\\n\\n3. Make sure your job posting is gender-neutral and free from any bias towards male candidates.\\n\\n4. Offer flexible work arrangements to attract and retain female graduates.\\n\\n5. Highlight any diversity and inclusion initiatives your company has in place to create an attractive work environment for female graduates.\\n\\n6. Ensure that your recruitment team is diverse and equipped to understand the unique challenges female graduates face in the workforce.\\n\\n7. Partner with universities and colleges that have a strong focus on supporting diversity and inclusion to tap into a diverse pool of female graduates.\",\n",
       "   \"role\": \"assistant\"\n",
       " }]"
      ]
     },
     "execution_count": 27,
     "metadata": {},
     "output_type": "execute_result"
    }
   ],
   "source": [
    "dialog.messages"
   ]
  },
  {
   "cell_type": "code",
   "execution_count": null,
   "id": "5834868f",
   "metadata": {},
   "outputs": [],
   "source": []
  }
 ],
 "metadata": {
  "kernelspec": {
   "display_name": "Python 3 (ipykernel)",
   "language": "python",
   "name": "python3"
  },
  "language_info": {
   "codemirror_mode": {
    "name": "ipython",
    "version": 3
   },
   "file_extension": ".py",
   "mimetype": "text/x-python",
   "name": "python",
   "nbconvert_exporter": "python",
   "pygments_lexer": "ipython3",
   "version": "3.9.0"
  }
 },
 "nbformat": 4,
 "nbformat_minor": 5
}
