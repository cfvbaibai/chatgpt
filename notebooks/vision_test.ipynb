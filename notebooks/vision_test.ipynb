{
 "cells": [
  {
   "cell_type": "code",
   "execution_count": 1,
   "id": "27f0a3f1",
   "metadata": {},
   "outputs": [],
   "source": [
    "from openai import OpenAI\n",
    "client = OpenAI()"
   ]
  },
  {
   "cell_type": "code",
   "execution_count": 4,
   "id": "5b3fd82d",
   "metadata": {},
   "outputs": [],
   "source": [
    "image_url = \"https://www.mycvstore.com/wp-content/uploads/2021/04/Best-Simple-Resume-Template-2021.jpg\""
   ]
  },
  {
   "cell_type": "code",
   "execution_count": 6,
   "id": "37a507f0",
   "metadata": {},
   "outputs": [
    {
     "name": "stdout",
     "output_type": "stream",
     "text": [
      "Choice(finish_reason=None, index=0, message=ChatCompletionMessage(content='这张图片是一份简历的样本。下面是以JSON格式概括的图片内容：\\n\\n```json\\n{\\n  \"Profile\": {\\n    \"Name\": \"BOBBY BROWN\",\\n    \"Title\": \"UI/UX DESIGNER\",\\n    \"Photo\": \"A smiling person with facial hair\",\\n    \"Quote\": \"Lorem ipsum dolor sit amet, consectetur adipiscing elit. Proin scelerisque commodo urna vitae facilisis. Nulla imperdiet convallis arcu, moles tic est elementum eu. Nulla quis mas urns volutpat nisi eleifend sollicitudin ac non ex.\",\\n    \"Contact\": [\\n      {\\n        \"Type\": \"Phone\",\\n        \"Value\": \"+000-550-528-0073\"\\n      },\\n      {\\n        \"Type\": \"Email\",\\n        \"Value\": \"example@email.com\"\\n      },\\n      {\\n        \"Type\": \"Address\",\\n        \"Value\": \"2448 Twin Willow Lane\"\\n      }\\n    ]\\n  },\\n  \"WorkExperiences\": [\\n    {\\n      \"Year\": \"2012-14\",\\n      \"Role\": \"Web & Graphic Design\",\\n      \"Company\": \"Company of Name\"\\n    },\\n    {\\n      \"Year\": \"2014-15\",\\n      \"Role\": \"UI/UX Design\",\\n      \"Company\": \"Company of Name\"\\n    },\\n    {\\n      \"Year\": \"2015-16\",\\n      \"Role\": \"', role='assistant', function_call=None, tool_calls=None), finish_details={'type': 'max_tokens'})\n"
     ]
    }
   ],
   "source": [
    "response = client.chat.completions.create(\n",
    "  model=\"gpt-4-vision-preview\",\n",
    "  messages=[\n",
    "    {\n",
    "      \"role\": \"user\",\n",
    "      \"content\": [\n",
    "        {\"type\": \"text\", \"text\": \"请概括一下这张图片内的内容，并使用JSON格式输出\"},\n",
    "        {\n",
    "          \"type\": \"image_url\",\n",
    "          \"image_url\": {\n",
    "            \"url\": image_url,\n",
    "          },\n",
    "        },\n",
    "      ],\n",
    "    }\n",
    "  ],\n",
    "  max_tokens=300,\n",
    ")\n",
    "\n",
    "print(response.choices[0])"
   ]
  },
  {
   "cell_type": "code",
   "execution_count": null,
   "id": "deb48262",
   "metadata": {},
   "outputs": [],
   "source": []
  }
 ],
 "metadata": {
  "kernelspec": {
   "display_name": "Python 3 (ipykernel)",
   "language": "python",
   "name": "python3"
  },
  "language_info": {
   "codemirror_mode": {
    "name": "ipython",
    "version": 3
   },
   "file_extension": ".py",
   "mimetype": "text/x-python",
   "name": "python",
   "nbconvert_exporter": "python",
   "pygments_lexer": "ipython3",
   "version": "3.9.0"
  }
 },
 "nbformat": 4,
 "nbformat_minor": 5
}
