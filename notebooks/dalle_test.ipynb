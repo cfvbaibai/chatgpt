{
 "cells": [
  {
   "cell_type": "code",
   "execution_count": 2,
   "id": "0eda77d2",
   "metadata": {},
   "outputs": [],
   "source": [
    "from openai import OpenAI\n",
    "client = OpenAI()"
   ]
  },
  {
   "cell_type": "code",
   "execution_count": 3,
   "id": "6b4c13d6",
   "metadata": {},
   "outputs": [],
   "source": [
    "prompt = \"Draw a Japanese-style comic image with a beautiful lady standing in the field with wheats and other crops. It is a bit windy. The lady's wearing a slim dress.\""
   ]
  },
  {
   "cell_type": "code",
   "execution_count": 5,
   "id": "826417e4",
   "metadata": {},
   "outputs": [],
   "source": [
    "response = client.images.generate(\n",
    "  model=\"dall-e-3\",\n",
    "  prompt=prompt,\n",
    "  size=\"1024x1024\",\n",
    "  quality=\"standard\",\n",
    "  n=1,\n",
    ")\n",
    "\n",
    "image_url = response.data[0].url"
   ]
  },
  {
   "cell_type": "code",
   "execution_count": 6,
   "id": "5176e849",
   "metadata": {},
   "outputs": [
    {
     "data": {
      "text/plain": [
       "'https://oaidalleapiprodscus.blob.core.windows.net/private/org-OhtNWv5AmoEmO7f0BXpwGcrU/user-1JfP2PY0eOCMAyn0Y26qXgVJ/img-HGRGNG9eXLG8t121K6xvrJNN.png?st=2023-12-10T02%3A41%3A22Z&se=2023-12-10T04%3A41%3A22Z&sp=r&sv=2021-08-06&sr=b&rscd=inline&rsct=image/png&skoid=6aaadede-4fb3-4698-a8f6-684d7786b067&sktid=a48cca56-e6da-484e-a814-9c849652bcb3&skt=2023-12-09T23%3A12%3A08Z&ske=2023-12-10T23%3A12%3A08Z&sks=b&skv=2021-08-06&sig=2b%2BMLRywuyXn3Tw8r6huJ/XeRvS2STN6VM1OAjqHgOg%3D'"
      ]
     },
     "execution_count": 6,
     "metadata": {},
     "output_type": "execute_result"
    }
   ],
   "source": [
    "image_url"
   ]
  },
  {
   "cell_type": "code",
   "execution_count": null,
   "id": "9bd9fee3",
   "metadata": {},
   "outputs": [],
   "source": []
  }
 ],
 "metadata": {
  "kernelspec": {
   "display_name": "Python 3 (ipykernel)",
   "language": "python",
   "name": "python3"
  },
  "language_info": {
   "codemirror_mode": {
    "name": "ipython",
    "version": 3
   },
   "file_extension": ".py",
   "mimetype": "text/x-python",
   "name": "python",
   "nbconvert_exporter": "python",
   "pygments_lexer": "ipython3",
   "version": "3.9.0"
  }
 },
 "nbformat": 4,
 "nbformat_minor": 5
}
