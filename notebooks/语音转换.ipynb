{
 "cells": [
  {
   "cell_type": "code",
   "execution_count": 1,
   "id": "c0da0b70-f0e5-4a19-b20a-7dd68549a520",
   "metadata": {},
   "outputs": [],
   "source": [
    "from pathlib import Path\n",
    "from openai import OpenAI\n",
    "client = OpenAI()"
   ]
  },
  {
   "cell_type": "markdown",
   "id": "af5c2c63-6f80-47a0-8f6b-edfce2b1323a",
   "metadata": {},
   "source": [
    "# 文字转语音"
   ]
  },
  {
   "cell_type": "code",
   "execution_count": 3,
   "id": "7ae23628-2647-426c-b06d-e167d734c389",
   "metadata": {},
   "outputs": [],
   "source": [
    "speech_file_path = \"speech.mp3\""
   ]
  },
  {
   "cell_type": "code",
   "execution_count": 5,
   "id": "3bc5d04e-4f5e-4f3e-b75b-6ed570f508ef",
   "metadata": {},
   "outputs": [],
   "source": [
    "response = client.audio.speech.create(\n",
    "  model=\"tts-1\",\n",
    "  voice=\"alloy\",\n",
    "  input=\"恭祝仁力名才2024年勇攀高峰，续创辉煌!\"\n",
    ")\n",
    "\n",
    "response.stream_to_file(speech_file_path)"
   ]
  },
  {
   "cell_type": "markdown",
   "id": "cbe1b0ad-171f-4207-bf2e-85046b251816",
   "metadata": {},
   "source": [
    "# 语音转文字"
   ]
  },
  {
   "cell_type": "code",
   "execution_count": 6,
   "id": "957264a6-744f-4dae-9de0-a0f8db7e3f49",
   "metadata": {},
   "outputs": [],
   "source": [
    "audio_file= open(speech_file_path, \"rb\")\n",
    "transcript = client.audio.transcriptions.create(\n",
    "  model=\"whisper-1\", \n",
    "  file=audio_file\n",
    ")"
   ]
  },
  {
   "cell_type": "code",
   "execution_count": 7,
   "id": "0956dcb4-8fc2-4a1c-88fc-dd72df5414a9",
   "metadata": {},
   "outputs": [
    {
     "data": {
      "text/plain": [
       "Transcription(text='恭祝任利民財2024年永盤高峰 蓄創輝煌')"
      ]
     },
     "execution_count": 7,
     "metadata": {},
     "output_type": "execute_result"
    }
   ],
   "source": [
    "transcript"
   ]
  },
  {
   "cell_type": "code",
   "execution_count": null,
   "id": "b7a72afd-1e97-4768-bd8c-13bae6ed9a40",
   "metadata": {},
   "outputs": [],
   "source": []
  }
 ],
 "metadata": {
  "kernelspec": {
   "display_name": "Python 3 (ipykernel)",
   "language": "python",
   "name": "python3"
  },
  "language_info": {
   "codemirror_mode": {
    "name": "ipython",
    "version": 3
   },
   "file_extension": ".py",
   "mimetype": "text/x-python",
   "name": "python",
   "nbconvert_exporter": "python",
   "pygments_lexer": "ipython3",
   "version": "3.11.4"
  }
 },
 "nbformat": 4,
 "nbformat_minor": 5
}
