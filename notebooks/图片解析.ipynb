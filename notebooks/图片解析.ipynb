{
 "cells": [
  {
   "cell_type": "code",
   "execution_count": 31,
   "id": "5928e85f-da1e-4ed1-bbe2-70122bbbadb2",
   "metadata": {},
   "outputs": [],
   "source": [
    "import json"
   ]
  },
  {
   "cell_type": "code",
   "execution_count": 3,
   "id": "27f0a3f1",
   "metadata": {},
   "outputs": [],
   "source": [
    "from openai import OpenAI\n",
    "client = OpenAI()"
   ]
  },
  {
   "cell_type": "markdown",
   "id": "fcadbb7a-32f4-411e-a35e-72c08b46f8a0",
   "metadata": {},
   "source": [
    "# 样例图片"
   ]
  },
  {
   "cell_type": "markdown",
   "id": "2e5dc5c1-1581-40a3-b79f-e9139692604a",
   "metadata": {},
   "source": [
    "<img src=\"https://www.mycvstore.com/wp-content/uploads/2021/04/Best-Simple-Resume-Template-2021.jpg\" />"
   ]
  },
  {
   "cell_type": "markdown",
   "id": "597ad05c-1f31-421f-9021-1fafa09f63c2",
   "metadata": {},
   "source": [
    "# 解析图片并描述内容"
   ]
  },
  {
   "cell_type": "code",
   "execution_count": 34,
   "id": "5b3fd82d",
   "metadata": {},
   "outputs": [],
   "source": [
    "image_url = \"https://www.mycvstore.com/wp-content/uploads/2021/04/Best-Simple-Resume-Template-2021.jpg\""
   ]
  },
  {
   "cell_type": "code",
   "execution_count": 40,
   "id": "ed1bfd6e-c8d7-4ecd-903e-e41bcf71b558",
   "metadata": {},
   "outputs": [],
   "source": [
    "request1 = \"请描述一下这张图片表达的内容\""
   ]
  },
  {
   "cell_type": "code",
   "execution_count": 42,
   "id": "97f4f904-064a-4078-91a0-51d90e6d8393",
   "metadata": {},
   "outputs": [],
   "source": [
    "response1 = client.chat.completions.create(\n",
    "  model=\"gpt-4-vision-preview\",\n",
    "  messages=[\n",
    "    {\n",
    "      \"role\": \"user\",\n",
    "      \"content\": [\n",
    "        {\"type\": \"text\", \"text\": request1 },\n",
    "        {\n",
    "          \"type\": \"image_url\",\n",
    "          \"image_url\": {\n",
    "            \"url\": image_url,\n",
    "          },\n",
    "        },\n",
    "      ],\n",
    "    }\n",
    "  ],\n",
    "  max_tokens=3000,\n",
    ")"
   ]
  },
  {
   "cell_type": "code",
   "execution_count": 43,
   "id": "f1aba458-555b-480d-bcdb-d73d561add42",
   "metadata": {},
   "outputs": [],
   "source": [
    "choice1 = response1.choices[0]"
   ]
  },
  {
   "cell_type": "code",
   "execution_count": 46,
   "id": "1ac98a67-b5f9-4b26-a63c-bd852883fffb",
   "metadata": {},
   "outputs": [
    {
     "name": "stdout",
     "output_type": "stream",
     "text": [
      "这张图片是一份简历的模板设计。简历的顶部有一位微笑的男士的照片，处于一个黄色圆形背景中。简历的右上方是名字“BOBBY BROWN”和职位“UI/UX DESIGNER”。\n",
      "\n",
      "简历分为多个部分，左边列有引用文本框（其中填充了随机文本Lorem Ipsum），联系信息，教育背景，和推荐人信息。联系信息包括电话号码、电子邮件地址和家庭地址。教育背景部分列出了2007年到2009年在“University of Name”取得的学位。推荐信息部分列出了两位推荐人James Morie和John Hart，包括他们的职位、联系电话号码和电子邮件地址。\n",
      "\n",
      "在简历的右侧，有一个“工作经历”（WORK EXPERIENCES）部分，列出从2012年到2016年的各个职位，包括网页与图形设计、UI/UX设计和领导UI/UX设计，以及各职位所在的公司名称（这里都是填充文本“Company of Name”）。此外，还有一个“我的技能”（MY SKILLS）部分，列出了技术技能，如Photoshop、InDesign、Illustrator、Premiere、MS Word和HTML，还有一些个人品质，如领导力（Leadership）、正直（Integrity）、团队合作（Teamwork）、创造力（Creativity）、管理（Management）和忠诚（Loyalty）。技能水平用条形图显示。另外还有“我的语言”（MY LANGUAGES）部分，列出了英语（English）、日语（Japanese）、法语（France）和荷兰语（Belgium）。\n",
      "\n",
      "请注意，“France”和“Belgium”是国家名称，并不直接对应语言；应该是“French”和“Dutch”或“Flemish”，根据比利时国内使用的语言。此简历模板使用的是随机填充文本如Lorem Ipsum，这是常规的设计实践，用于显示文本的布局，而不是呈现实际内容。\n"
     ]
    }
   ],
   "source": [
    "print(choice1.message.content)"
   ]
  },
  {
   "cell_type": "markdown",
   "id": "08163244-7d94-45b7-b237-9f4b1e7b756b",
   "metadata": {},
   "source": [
    "# 解析图片并输出结构化内容"
   ]
  },
  {
   "cell_type": "code",
   "execution_count": 35,
   "id": "c09d30a5-11d9-4d13-b488-7739e9ceb8ff",
   "metadata": {},
   "outputs": [],
   "source": [
    "request2 = \"请将这张图片内的内容，使用纯粹的JSON格式输出。要求只输出JSON部分，不要带任何格式化的额外内容。\""
   ]
  },
  {
   "cell_type": "code",
   "execution_count": 36,
   "id": "37a507f0",
   "metadata": {},
   "outputs": [],
   "source": [
    "response2 = client.chat.completions.create(\n",
    "  model=\"gpt-4-vision-preview\",\n",
    "  messages=[\n",
    "    {\n",
    "      \"role\": \"user\",\n",
    "      \"content\": [\n",
    "        {\"type\": \"text\", \"text\": request2 },\n",
    "        {\n",
    "          \"type\": \"image_url\",\n",
    "          \"image_url\": {\n",
    "            \"url\": image_url,\n",
    "          },\n",
    "        },\n",
    "      ],\n",
    "    }\n",
    "  ],\n",
    "  max_tokens=3000,\n",
    ")"
   ]
  },
  {
   "cell_type": "code",
   "execution_count": 37,
   "id": "deb48262",
   "metadata": {},
   "outputs": [],
   "source": [
    "choice2 = response2.choices[0]"
   ]
  },
  {
   "cell_type": "code",
   "execution_count": 38,
   "id": "cb872f6c-a1c1-42bf-9d6d-84e8bfbed564",
   "metadata": {},
   "outputs": [],
   "source": [
    "content2 = json.loads(choice2.message.content)"
   ]
  },
  {
   "cell_type": "code",
   "execution_count": 39,
   "id": "23797daf-2f59-4832-a5bc-432dc0882aa3",
   "metadata": {},
   "outputs": [
    {
     "data": {
      "text/plain": [
       "{'name': 'BOBBY BROWN',\n",
       " 'title': 'UI/UX DESIGNER',\n",
       " 'contact': {'phone': '+000-550-528-0073',\n",
       "  'email': 'example@email.com',\n",
       "  'address': '2448 Twin Willow Lane'},\n",
       " 'quote': 'Lorem ipsum dolor sit amet, consec tetur adipiscing elit. Proin scelerisque ue commodo urna vitae facilisis. Nu illa imperdiet convallis arcu, moles tie est clementum eu. Nulla quis ma uenis vulputate nisi eleifend sollicitu din ac non ex',\n",
       " 'education': [{'years': '2007-2009',\n",
       "   'degree': 'Degree of University',\n",
       "   'institution': 'University of Name'},\n",
       "  {'years': '2007-2009',\n",
       "   'degree': 'Degree of University',\n",
       "   'institution': 'University of Name'}],\n",
       " 'references': [{'name': 'James Morie',\n",
       "   'position': 'Manager at Company.org',\n",
       "   'phone': 'P: +000 1234 56789',\n",
       "   'email': 'uname@gmail.com'},\n",
       "  {'name': 'John Hart',\n",
       "   'position': 'Manager at Company.org',\n",
       "   'phone': 'P: +000 1234 56789',\n",
       "   'email': 'uname@gmail.com'}],\n",
       " 'work_experiences': [{'years': '2012-14',\n",
       "   'position': 'Web & Graphic Design',\n",
       "   'company': 'Company of Name',\n",
       "   'description': 'Lorem ipsum dolor sit amet, consectetur adipiscing elit. Proin scelerisque commodo urna vitae facilisis. Nulla imperdiet'},\n",
       "  {'years': '2014-15',\n",
       "   'position': 'UI/UX Design',\n",
       "   'company': 'Company of Name',\n",
       "   'description': 'Lorem ipsum dolor sit amet, consectetur adipiscing elit. Proin scelerisque commodo urna vitae facilisis. Nulla imperdiet'},\n",
       "  {'years': '2015-16',\n",
       "   'position': 'Lead UI/UX Design',\n",
       "   'company': 'Company of Name',\n",
       "   'description': 'Lorem ipsum dolor sit amet, consectetur adipiscing elit. Proin scelerisque commodo urna vitae facilisis. Nulla imperdiet'},\n",
       "  {'years': '2015-16',\n",
       "   'position': 'Lead UI/UX Design',\n",
       "   'company': 'Company of Name',\n",
       "   'description': 'Lorem ipsum dolor sit amet, consectetur adipiscing elit. Proin scelerisque commodo urna vitae facilisis. Nulla imperdiet'}],\n",
       " 'skills': {'technical': ['Photoshop',\n",
       "   'Indesign',\n",
       "   'Illustrator',\n",
       "   'Premiere',\n",
       "   'MS Word',\n",
       "   'HTML'],\n",
       "  'soft': ['Leadership',\n",
       "   'Integrity',\n",
       "   'Teamwork',\n",
       "   'Creativity',\n",
       "   'Management',\n",
       "   'Loyalty']},\n",
       " 'languages': {'English': 'Fluent',\n",
       "  'Japanese': 'Beginner',\n",
       "  'France': 'Fluent',\n",
       "  'Belgium': 'Fluent'}}"
      ]
     },
     "execution_count": 39,
     "metadata": {},
     "output_type": "execute_result"
    }
   ],
   "source": [
    "content2"
   ]
  },
  {
   "cell_type": "code",
   "execution_count": null,
   "id": "23954332-d11f-4716-84d2-f2a1573f1fbe",
   "metadata": {},
   "outputs": [],
   "source": []
  }
 ],
 "metadata": {
  "kernelspec": {
   "display_name": "Python 3 (ipykernel)",
   "language": "python",
   "name": "python3"
  },
  "language_info": {
   "codemirror_mode": {
    "name": "ipython",
    "version": 3
   },
   "file_extension": ".py",
   "mimetype": "text/x-python",
   "name": "python",
   "nbconvert_exporter": "python",
   "pygments_lexer": "ipython3",
   "version": "3.11.4"
  }
 },
 "nbformat": 4,
 "nbformat_minor": 5
}
